{
  "nbformat": 4,
  "nbformat_minor": 0,
  "metadata": {
    "colab": {
      "provenance": []
    },
    "kernelspec": {
      "name": "python3",
      "display_name": "Python 3"
    },
    "language_info": {
      "name": "python"
    }
  },
  "cells": [
    {
      "cell_type": "code",
      "execution_count": 1,
      "metadata": {
        "colab": {
          "base_uri": "https://localhost:8080/"
        },
        "id": "ZDV7aeRBnQKk",
        "outputId": "063cfe40-d4a0-4b76-e4ac-f367f4c3d086"
      },
      "outputs": [
        {
          "output_type": "stream",
          "name": "stdout",
          "text": [
            "Mounted at /content/drive\n"
          ]
        }
      ],
      "source": [
        "from google.colab import drive\n",
        "drive.mount('/content/drive')\n",
        "\n",
        "import re\n",
        "\n",
        "def load_dictionary(file_path):\n",
        "    with open(file_path, 'r', encoding='utf-8') as file:\n",
        "        # Read and clean the dictionary, assume each word is on a new line\n",
        "        dictionary = set(word.strip().lower() for word in file.readlines())\n",
        "    return dictionary\n",
        "\n",
        "# Load the Sinhala dictionary\n",
        "dictionary = load_dictionary('/content/drive/MyDrive/Al_Spelling and grammer checker/sinhala_dictionary_new.txt')"
      ]
    },
    {
      "cell_type": "code",
      "source": [
        "# Function to calculate edit distance between two words considering letters and positions\n",
        "def edit_distance(word1, word2):\n",
        "    m, n = len(word1), len(word2)\n",
        "    dp = [[0] * (n + 1) for _ in range(m + 1)]\n",
        "\n",
        "    for i in range(m + 1):\n",
        "        for j in range(n + 1):\n",
        "            if i == 0:\n",
        "                dp[i][j] = j\n",
        "            elif j == 0:\n",
        "                dp[i][j] = i\n",
        "            elif word1[i-1] == word2[j-1]:\n",
        "                dp[i][j] = dp[i-1][j-1]\n",
        "            else:\n",
        "                dp[i][j] = 1 + min(dp[i-1][j], dp[i][j-1], dp[i-1][j-1])\n",
        "\n",
        "    return dp[m][n]\n",
        "\n",
        "# Enhanced candidate generation considering letter positions\n",
        "def generate_candidates(word, dictionary):\n",
        "    candidates = []\n",
        "    for dict_word in dictionary:\n",
        "        # Calculate the edit distance for each word in the dictionary\n",
        "        dist = edit_distance(word, dict_word)\n",
        "        if dist <= 1:  # You can adjust the threshold based on your needs\n",
        "            candidates.append((dict_word, dist))\n",
        "    return candidates\n",
        "\n",
        "# Example usage of candidate generation\n",
        "misspelled_word = \"පාසට\"  # Replace with your input word\n",
        "candidates = generate_candidates(misspelled_word, dictionary)\n",
        "print(f\"Candidates for the word '{misspelled_word}': {candidates}\")\n"
      ],
      "metadata": {
        "colab": {
          "base_uri": "https://localhost:8080/"
        },
        "id": "FMf0HXcQsFW1",
        "outputId": "9a407730-20be-464b-81df-bb754ffce0e5"
      },
      "execution_count": 2,
      "outputs": [
        {
          "output_type": "stream",
          "name": "stdout",
          "text": [
            "Candidates for the word 'පාසට': [('පාසා', 1), ('පාට', 1), ('පාසලට', 1), ('පාටට', 1), ('පසට', 1), ('පාසල', 1)]\n"
          ]
        }
      ]
    },
    {
      "cell_type": "code",
      "source": [
        "from collections import Counter\n",
        "\n",
        "# Score candidates based on their edit distance and frequency\n",
        "def score_candidates(candidates, word_frequency):\n",
        "    scored_candidates = []\n",
        "    for candidate, dist in candidates:\n",
        "        score = word_frequency.get(candidate, 0) - dist  # Higher frequency and lower edit distance score higher\n",
        "        scored_candidates.append((candidate, score))\n",
        "    scored_candidates.sort(key=lambda x: x[1], reverse=True)  # Sort candidates by score\n",
        "    return scored_candidates\n",
        "\n",
        "# Example usage of scoring candidates\n",
        "word_frequency = Counter(dictionary)  # Frequency of words in the dictionary\n",
        "scored_candidates = score_candidates(candidates, word_frequency)\n",
        "print(f\"Scored candidates: {scored_candidates}\")\n"
      ],
      "metadata": {
        "colab": {
          "base_uri": "https://localhost:8080/"
        },
        "id": "sqfpP2d7HU_M",
        "outputId": "84deaba4-cfe9-4eb3-8b4a-58eaabe2409d"
      },
      "execution_count": 3,
      "outputs": [
        {
          "output_type": "stream",
          "name": "stdout",
          "text": [
            "Scored candidates: [('පාසා', 0), ('පාට', 0), ('පාසලට', 0), ('පාටට', 0), ('පසට', 0), ('පාසල', 0)]\n"
          ]
        }
      ]
    },
    {
      "cell_type": "code",
      "source": [
        "# Function to correct spelling considering all letters and positions\n",
        "def correct_spelling(word, dictionary, word_frequency):\n",
        "    if word in dictionary:  # If the word is in the dictionary, return it unchanged\n",
        "        return word\n",
        "    candidates = generate_candidates(word, dictionary)\n",
        "    if not candidates:\n",
        "        return word  # No correction found, return the original word\n",
        "    scored_candidates = score_candidates(candidates, word_frequency)\n",
        "    # Return the highest scoring candidate\n",
        "    return scored_candidates[0][0]\n",
        "\n",
        "# Example usage of spelling correction\n",
        "corrected_word = correct_spelling(misspelled_word, dictionary, word_frequency)\n",
        "print(f\"Corrected word: {corrected_word}\")\n"
      ],
      "metadata": {
        "colab": {
          "base_uri": "https://localhost:8080/"
        },
        "id": "PE6atR5MIN59",
        "outputId": "8b80e30f-3778-43c2-dfef-f180a77ccc92"
      },
      "execution_count": 4,
      "outputs": [
        {
          "output_type": "stream",
          "name": "stdout",
          "text": [
            "Corrected word: පාසා\n"
          ]
        }
      ]
    },
    {
      "cell_type": "code",
      "source": [
        "# Function to check spelling for a whole input text\n",
        "def spell_checker(input_text, dictionary, word_frequency):\n",
        "    words = input_text.split()  # Split the text into individual words\n",
        "    corrected_words = [correct_spelling(word, dictionary, word_frequency) for word in words]\n",
        "    return ' '.join(corrected_words)\n",
        "\n",
        "# Example usage for correcting an entire sentence\n",
        "input_text = \"ගුරැවරුන් පාසට වෙත පැමිණෙයි\"\n",
        "corrected_text = spell_checker(input_text, dictionary, word_frequency)\n",
        "print(f\"Corrected text: {corrected_text}\")\n"
      ],
      "metadata": {
        "colab": {
          "base_uri": "https://localhost:8080/"
        },
        "id": "Gpb9MlBzIbxf",
        "outputId": "97dcec37-c30d-4b1b-bc81-1660d54c1b1d"
      },
      "execution_count": 5,
      "outputs": [
        {
          "output_type": "stream",
          "name": "stdout",
          "text": [
            "Corrected text: ගුරුවරුන් පාසා වෙත පැමිණෙයි\n"
          ]
        }
      ]
    },
    {
      "cell_type": "code",
      "source": [
        "misspelled_texts = [\n",
        "    \"ගුරැවරුන් පාසට වෙත පැමිනෙයි\",\n",
        "    \"ඔයා හොද අයෙක්\",\n",
        "    \"අද කුමුදු ගමනක ගියා\",\n",
        "    \"ළමයි සෙලලම් කර කර හිටයා.\",\n",
        "    \"වැස්ස නිසා අපිට එළියට යන්න බරි වණා\"\n",
        "]\n",
        "\n",
        "for text in misspelled_texts:\n",
        "    corrected_text = spell_checker(text, dictionary, word_frequency)\n",
        "    print(f\"\\nOriginal: {text}, \\nCorrected: {corrected_text}\")\n"
      ],
      "metadata": {
        "colab": {
          "base_uri": "https://localhost:8080/"
        },
        "id": "B5UlPezFdibM",
        "outputId": "acf68ca7-02e8-4afb-c16a-f92d81790e8c"
      },
      "execution_count": 6,
      "outputs": [
        {
          "output_type": "stream",
          "name": "stdout",
          "text": [
            "\n",
            "Original: ගුරැවරුන් පාසට වෙත පැමිනෙයි, \n",
            "Corrected: ගුරුවරුන් පාසා වෙත පැමිණෙයි\n",
            "\n",
            "Original: ඔයා හොද අයෙක්, \n",
            "Corrected: ඔයා හොර අයෙක්\n",
            "\n",
            "Original: අද කුමුදු ගමනක ගියා, \n",
            "Corrected: අද කුමුදු ගමනට ගියා\n",
            "\n",
            "Original: ළමයි සෙලලම් කර කර හිටයා., \n",
            "Corrected: ළමයිට සෙල්ලම් කර කර හිටයා.\n",
            "\n",
            "Original: වැස්ස නිසා අපිට එළියට යන්න බරි වණා, \n",
            "Corrected: වැස්ස නිසා අපිට එළියට යන්න බැරි වගා\n"
          ]
        }
      ]
    }
  ]
}